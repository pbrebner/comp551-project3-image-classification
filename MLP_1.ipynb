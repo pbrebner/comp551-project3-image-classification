{
  "nbformat": 4,
  "nbformat_minor": 0,
  "metadata": {
    "colab": {
      "name": "MLP 1.ipynb",
      "provenance": [],
      "collapsed_sections": []
    },
    "kernelspec": {
      "name": "python3",
      "display_name": "Python 3"
    }
  },
  "cells": [
    {
      "source": [
        "# Multilayer Perceptron using Minibatch SGD on CIFAR 10 Dataset\n",
        "\n",
        "The CIFAR 10 dataset contains 60000 32x32 colour images (i.e. 3 channels), 50000 of which are training images and 10000 test images. \n",
        "\n",
        "There are 10 classes of images: \n",
        "airplane, automobile, bird, cat, deer, dog, frog, horse, ship, truck. There are 6000 images per class. \n",
        "\n",
        "The dataset has 5 training batches and one test batch. The test batach has 1000 randomly selected images for each class. The training batches may contain more images from one class than another. \n",
        "\n",
        "\n",
        "https://zhenye-na.github.io/2018/09/28/pytorch-cnn-cifar10.html"
      ],
      "cell_type": "markdown",
      "metadata": {
        "id": "q-fq9YQeMJXU"
      }
    },
    {
      "cell_type": "code",
      "metadata": {
        "id": "leSdHYU7hDuw"
      },
      "source": [
        "class Layer:\n",
        "#A building block. Each layer is capable of performing two things:\n",
        "#- Process input to get output: output = layer.forward(input)\n",
        "#- Propagate gradients through itself: grad_input = layer.backward(input, grad_output)\n",
        "#Some layers also have learnable parameters which they update during layer.backward.\n",
        "\n",
        "  def __init__(self):\n",
        "      # Here we can initialize layer parameters (if any) and auxiliary stuff.\n",
        "      # A dummy layer does nothing\n",
        "      pass\n",
        "\n",
        "  def forward(self, input):\n",
        "      # Takes input data of shape [batch, input_units], returns output data [batch, output_units]\n",
        "      # A dummy layer just returns whatever it gets as input.\n",
        "      return input\n",
        "\n",
        "  def backward(self, input, grad_output):\n",
        "      # Performs a backpropagation step through the layer, with respect to the given input.\n",
        "      # To compute loss gradients w.r.t input, we need to apply chain rule (backprop):\n",
        "      # d loss / d x  = (d loss / d layer) * (d layer / d x)\n",
        "      # Luckily, we already receive d loss / d layer as input, so you only need to multiply it by d layer / d x.\n",
        "      # If our layer has parameters (e.g. dense layer), we also need to update them here using d loss / d layer\n",
        "      # The gradient of a dummy layer is precisely grad_output, but we'll write it more explicitly\n",
        "      \n",
        "      num_units = input.shape[1]\n",
        "      \n",
        "      d_layer_d_input = np.eye(num_units)\n",
        "      \n",
        "      return np.dot(grad_output, d_layer_d_input) # chain rule"
      ],
      "execution_count": null,
      "outputs": []
    },
    {
      "cell_type": "code",
      "metadata": {
        "id": "eEad01NvMZDo"
      },
      "source": [
        "import numpy as np\n",
        "from keras.utils.np_utils import to_categorical   \n",
        "np.random.seed(42)\n",
        "\n",
        "\n",
        "class Dense():\n",
        "\n",
        "  def __init__(self, n_inputs, n_outputs, lr=0.1):\n",
        "    self.lr = lr\n",
        "\n",
        "    # Randomly initialize weights with uniform distribution\n",
        "    self.weights = np.random.uniform(-1/np.sqrt(n_inputs), 1/np.sqrt(n_inputs),[n_inputs, n_outputs])\n",
        "    self.biases = np.zeros(n_outputs)\n",
        "\n",
        "  def forward(self, input): \n",
        "    # Will do f(x) = weights*inputs + b\n",
        "    # input shape: [batch, input_units]\n",
        "    # output shape: [batch, output units]\n",
        "    \n",
        "    return np.dot(input,self.weights) + self.biases\n",
        "\n",
        "  def backward(self, input, grad_output):\n",
        "    # Performs a backpropagation step through the layer, with respect to the given input.\n",
        "    # To compute loss gradients w.r.t input, we need to apply chain rule (backprop):\n",
        "    # compute d f / d x = d f / d layer * d layer / d x\n",
        "    # where d layer/ d x = weights transposed\n",
        "\n",
        "    grad_input = np.dot(grad_output, self.weights.T)\n",
        "\n",
        "    # compute gradient w.r.t. weights and biases\n",
        "    grad_weights = np.dot(input.T, grad_output)\n",
        "    grad_biases = grad_output.mean(axis=0)*input.shape[0]\n",
        "\n",
        "    # Stochastic gradient descent step to update weights\n",
        "    self.weights = self.weights - self.lr * grad_weights\n",
        "    self.biases = self.biases - self.lr * grad_biases\n",
        "    \n",
        "    return grad_input\n",
        "\n",
        "class ReLU():\n",
        "    def __init__(self):\n",
        "        # ReLU layer simply applies elementwise rectified linear unit to all inputs\n",
        "        pass\n",
        "    \n",
        "    def forward(self, input):\n",
        "        # Apply elementwise ReLU to [batch, input_units] matrix\n",
        "        relu_forward = np.maximum(0,input)\n",
        "        return relu_forward\n",
        "    \n",
        "    def backward(self, input, grad_output):\n",
        "        # Compute gradient of loss w.r.t. ReLU input\n",
        "        relu_grad = input > 0\n",
        "        return grad_output*relu_grad"
      ],
      "execution_count": null,
      "outputs": []
    },
    {
      "cell_type": "code",
      "metadata": {
        "id": "QgMoN1fQ24b3"
      },
      "source": [
        "def softmax_crossentropy_with_logits(logits,reference_answers):\n",
        "    # Compute crossentropy from logits[batch,n_classes] and ids of correct answers\n",
        "    logits_for_answers = logits[np.arange(len(logits)),reference_answers]\n",
        "    \n",
        "    xentropy = - logits_for_answers + np.log(np.sum(np.exp(logits),axis=-1))\n",
        "    \n",
        "    return xentropy\n",
        "def grad_softmax_crossentropy_with_logits(logits,reference_answers):\n",
        "    # Compute crossentropy gradient from logits[batch,n_classes] and ids of correct answers\n",
        "    ones_for_answers = np.zeros_like(logits)\n",
        "    ones_for_answers[np.arange(len(logits)),reference_answers] = 1\n",
        "    \n",
        "    softmax = np.exp(logits) / np.exp(logits).sum(axis=-1,keepdims=True)\n",
        "    \n",
        "    return (- ones_for_answers + softmax) / logits.shape[0]"
      ],
      "execution_count": null,
      "outputs": []
    },
    {
      "cell_type": "markdown",
      "metadata": {
        "id": "Bp2gW1Gq794X"
      },
      "source": [
        "## Load the Data"
      ]
    },
    {
      "cell_type": "code",
      "metadata": {
        "id": "ygLdlW2CxtQE"
      },
      "source": [
        "import numpy as np\n",
        "from keras.datasets import cifar10\n",
        "from keras.utils.np_utils import to_categorical   \n",
        "\n",
        "(X_train, y_train), (X_test, y_test) = cifar10.load_data()\n",
        "\n",
        "# Transform images from (32,32,3) to 3072-dimensional vectors (32*32*3)\n",
        "X_train = np.reshape(X_train,(50000,3072))\n",
        "X_test = np.reshape(X_test,(10000,3072))\n",
        "X_train = X_train.astype('float')\n",
        "X_test = X_test.astype('float')\n",
        "\n",
        "# Normalization of pixel values (to [0-1] range)\n",
        "X_train /= 255\n",
        "X_test /= 255"
      ],
      "execution_count": null,
      "outputs": []
    },
    {
      "cell_type": "markdown",
      "metadata": {
        "id": "N3deI4cKCMUt"
      },
      "source": [
        "### Display some data "
      ]
    },
    {
      "cell_type": "code",
      "metadata": {
        "id": "h9a9SVJWyfGa",
        "colab": {
          "base_uri": "https://localhost:8080/",
          "height": 390
        },
        "outputId": "ab6f16fb-dba6-4d8d-c363-5164dc76460f"
      },
      "source": [
        "import matplotlib.pyplot as plt\n",
        "\n",
        "## Let's look at some example\n",
        "plt.figure(figsize=[6,6])\n",
        "for i in range(4):\n",
        "    plt.subplot(2,2,i+1)\n",
        "    plt.title(\"Label: %i\"%y_train[i])\n",
        "    plt.imshow(X_train[i].reshape([32,32,3]));"
      ],
      "execution_count": null,
      "outputs": [
        {
          "output_type": "display_data",
          "data": {
            "image/png": "[encoded data removed]",
            "text/plain": [
              "<Figure size 432x432 with 4 Axes>"
            ]
          },
          "metadata": {
            "tags": [],
            "needs_background": "light"
          }
        }
      ]
    },
    {
      "cell_type": "markdown",
      "metadata": {
        "id": "1zhwaeGn8BGV"
      },
      "source": [
        "### Create the model"
      ]
    },
    {
      "cell_type": "code",
      "metadata": {
        "id": "HfuPRL-NzIcB"
      },
      "source": [
        "def forward(network, X):\n",
        "    # Compute activations of all network layers by applying them sequentially.\n",
        "    # Return a list of activations for each layer. \n",
        "    \n",
        "    activations = []\n",
        "    input = X\n",
        "    \n",
        "    # Looping through each layer\n",
        "    for l in network:\n",
        "        activations.append(l.forward(input))\n",
        "        # Updating input to last layer output\n",
        "        input = activations[-1]\n",
        "    \n",
        "    assert len(activations) == len(network)\n",
        "    return activations\n",
        "\n",
        "def predict(network,X):\n",
        "    # Compute network predictions. Returning indices of largest Logit probability\n",
        "    logits = forward(network,X)[-1]\n",
        "    return logits.argmax(axis=-1)\n",
        "\n",
        "def train(network,X,y):\n",
        "    # Train our network on a given batch of X and y.\n",
        "    # We first need to run forward to get all layer activations.\n",
        "    # Then we can run layer.backward going from last to first layer.\n",
        "    # After we have called backward for all layers, all Dense layers have already made one gradient step.\n",
        "    \n",
        "    # Get the layer activations\n",
        "    layer_activations = forward(network,X)\n",
        "    layer_inputs = [X]+layer_activations  #layer_input[i] is an input for network[i]\n",
        "    logits = layer_activations[-1]\n",
        "    \n",
        "    # Compute the loss and the initial gradient\n",
        "    loss = softmax_crossentropy_with_logits(logits,y)\n",
        "    loss_grad = grad_softmax_crossentropy_with_logits(logits,y)\n",
        "    \n",
        "    # Propagate gradients through the network\n",
        "    # Reverse propogation as this is backprop\n",
        "    for layer_index in range(len(network))[::-1]:\n",
        "        layer = network[layer_index]\n",
        "        \n",
        "        loss_grad = layer.backward(layer_inputs[layer_index],loss_grad) #grad w.r.t. input, also weight updates\n",
        "        \n",
        "    return np.mean(loss)"
      ],
      "execution_count": null,
      "outputs": []
    },
    {
      "cell_type": "markdown",
      "metadata": {
        "id": "vVYKxlhw3Zcl"
      },
      "source": [
        "### Minibatch "
      ]
    },
    {
      "cell_type": "code",
      "metadata": {
        "id": "0k3Lnh3K3Yfw"
      },
      "source": [
        "from tqdm import trange\n",
        "def iterate_minibatches(inputs, targets, batchsize, shuffle=False):\n",
        "    assert len(inputs) == len(targets)\n",
        "    if shuffle:\n",
        "        indices = np.random.permutation(len(inputs))\n",
        "    for start_idx in trange(0, len(inputs) - batchsize + 1, batchsize):\n",
        "        if shuffle:\n",
        "            excerpt = indices[start_idx:start_idx + batchsize]\n",
        "        else:\n",
        "            excerpt = slice(start_idx, start_idx + batchsize)\n",
        "        yield inputs[excerpt], targets[excerpt]"
      ],
      "execution_count": null,
      "outputs": []
    },
    {
      "cell_type": "markdown",
      "metadata": {
        "id": "6hV9XxKw3igx"
      },
      "source": [
        "### Train the model "
      ]
    },
    {
      "cell_type": "code",
      "metadata": {
        "id": "7p9SPAN03bMZ",
        "colab": {
          "base_uri": "https://localhost:8080/",
          "height": 725
        },
        "outputId": "2d571dd6-7485-4ed2-9f67-dffa2def8747"
      },
      "source": [
        "from IPython.display import clear_output\n",
        "\n",
        "train_log = []\n",
        "val_log = []\n",
        "\n",
        "for epoch in range(25):\n",
        "\n",
        "  # Create the network (2 layers)\n",
        "  mlp = []\n",
        "  mlp.append(Dense(X_train.shape[1],256))\n",
        "  mlp.append(ReLU())\n",
        "  mlp.append(Dense(256,10))\n",
        "  \n",
        "  for x_batch,y_batch in iterate_minibatches(X_train,y_train,batchsize=32,shuffle=True):\n",
        "      train(mlp,x_batch,y_batch)\n",
        "  \n",
        "  train_log.append(np.mean(predict(mlp,X_train)==y_train))\n",
        "  val_log.append(np.mean(predict(mlp,X_test)==y_test))\n",
        "  \n",
        "  clear_output()\n",
        "  print(\"Epoch\",epoch)\n",
        "  print(\"Train accuracy:\",train_log[-1])\n",
        "  print(\"Val accuracy:\",val_log[-1])\n",
        "  plt.plot(train_log,label='train accuracy')\n",
        "  plt.plot(val_log,label='val accuracy')\n",
        "  plt.legend(loc='best')\n",
        "  plt.grid()\n",
        "  plt.show()"
      ],
      "execution_count": null,
      "outputs": [
        {
          "output_type": "stream",
          "text": [
            "Epoch 1\n",
            "Train accuracy: 0.1\n",
            "Val accuracy: 0.1\n"
          ],
          "name": "stdout"
        },
        {
          "output_type": "display_data",
          "data": {
            "image/png": "[encoded data removed]",
            "text/plain": [
              "<Figure size 432x288 with 1 Axes>"
            ]
          },
          "metadata": {
            "tags": [],
            "needs_background": "light"
          }
        },
        {
          "output_type": "stream",
          "text": [
            " 18%|█▊        | 279/1562 [00:03<00:17, 73.23it/s]\n"
          ],
          "name": "stderr"
        },
        {
          "output_type": "error",
          "ename": "KeyboardInterrupt",
          "evalue": "ignored",
          "traceback": [
            "\u001b[0;31m---------------------------------------------------------------------------\u001b[0m",
            "\u001b[0;31mKeyboardInterrupt\u001b[0m                         Traceback (most recent call last)",
            "\u001b[0;32m<ipython-input-52-dfe867c08d7c>\u001b[0m in \u001b[0;36m<module>\u001b[0;34m()\u001b[0m\n\u001b[1;32m     13\u001b[0m \u001b[0;34m\u001b[0m\u001b[0m\n\u001b[1;32m     14\u001b[0m   \u001b[0;32mfor\u001b[0m \u001b[0mx_batch\u001b[0m\u001b[0;34m,\u001b[0m\u001b[0my_batch\u001b[0m \u001b[0;32min\u001b[0m \u001b[0miterate_minibatches\u001b[0m\u001b[0;34m(\u001b[0m\u001b[0mX_train\u001b[0m\u001b[0;34m,\u001b[0m\u001b[0my_train\u001b[0m\u001b[0;34m,\u001b[0m\u001b[0mbatchsize\u001b[0m\u001b[0;34m=\u001b[0m\u001b[0;36m32\u001b[0m\u001b[0;34m,\u001b[0m\u001b[0mshuffle\u001b[0m\u001b[0;34m=\u001b[0m\u001b[0;32mTrue\u001b[0m\u001b[0;34m)\u001b[0m\u001b[0;34m:\u001b[0m\u001b[0;34m\u001b[0m\u001b[0;34m\u001b[0m\u001b[0m\n\u001b[0;32m---> 15\u001b[0;31m       \u001b[0mtrain\u001b[0m\u001b[0;34m(\u001b[0m\u001b[0mmlp\u001b[0m\u001b[0;34m,\u001b[0m\u001b[0mx_batch\u001b[0m\u001b[0;34m,\u001b[0m\u001b[0my_batch\u001b[0m\u001b[0;34m)\u001b[0m\u001b[0;34m\u001b[0m\u001b[0;34m\u001b[0m\u001b[0m\n\u001b[0m\u001b[1;32m     16\u001b[0m \u001b[0;34m\u001b[0m\u001b[0m\n\u001b[1;32m     17\u001b[0m   \u001b[0mtrain_log\u001b[0m\u001b[0;34m.\u001b[0m\u001b[0mappend\u001b[0m\u001b[0;34m(\u001b[0m\u001b[0mnp\u001b[0m\u001b[0;34m.\u001b[0m\u001b[0mmean\u001b[0m\u001b[0;34m(\u001b[0m\u001b[0mpredict\u001b[0m\u001b[0;34m(\u001b[0m\u001b[0mmlp\u001b[0m\u001b[0;34m,\u001b[0m\u001b[0mX_train\u001b[0m\u001b[0;34m)\u001b[0m\u001b[0;34m==\u001b[0m\u001b[0my_train\u001b[0m\u001b[0;34m)\u001b[0m\u001b[0;34m)\u001b[0m\u001b[0;34m\u001b[0m\u001b[0;34m\u001b[0m\u001b[0m\n",
            "\u001b[0;32m<ipython-input-43-473df721bfd9>\u001b[0m in \u001b[0;36mtrain\u001b[0;34m(network, X, y)\u001b[0m\n\u001b[1;32m     45\u001b[0m         \u001b[0mlayer\u001b[0m \u001b[0;34m=\u001b[0m \u001b[0mnetwork\u001b[0m\u001b[0;34m[\u001b[0m\u001b[0mlayer_index\u001b[0m\u001b[0;34m]\u001b[0m\u001b[0;34m\u001b[0m\u001b[0;34m\u001b[0m\u001b[0m\n\u001b[1;32m     46\u001b[0m \u001b[0;34m\u001b[0m\u001b[0m\n\u001b[0;32m---> 47\u001b[0;31m         \u001b[0mloss_grad\u001b[0m \u001b[0;34m=\u001b[0m \u001b[0mlayer\u001b[0m\u001b[0;34m.\u001b[0m\u001b[0mbackward\u001b[0m\u001b[0;34m(\u001b[0m\u001b[0mlayer_inputs\u001b[0m\u001b[0;34m[\u001b[0m\u001b[0mlayer_index\u001b[0m\u001b[0;34m]\u001b[0m\u001b[0;34m,\u001b[0m\u001b[0mloss_grad\u001b[0m\u001b[0;34m)\u001b[0m \u001b[0;31m#grad w.r.t. input, also weight updates\u001b[0m\u001b[0;34m\u001b[0m\u001b[0;34m\u001b[0m\u001b[0m\n\u001b[0m\u001b[1;32m     48\u001b[0m \u001b[0;34m\u001b[0m\u001b[0m\n\u001b[1;32m     49\u001b[0m     \u001b[0;32mreturn\u001b[0m \u001b[0mnp\u001b[0m\u001b[0;34m.\u001b[0m\u001b[0mmean\u001b[0m\u001b[0;34m(\u001b[0m\u001b[0mloss\u001b[0m\u001b[0;34m)\u001b[0m\u001b[0;34m\u001b[0m\u001b[0;34m\u001b[0m\u001b[0m\n",
            "\u001b[0;32m<ipython-input-40-ddbe76a5dd13>\u001b[0m in \u001b[0;36mbackward\u001b[0;34m(self, input, grad_output)\u001b[0m\n\u001b[1;32m     26\u001b[0m     \u001b[0;31m# where d layer/ d x = weights transposed\u001b[0m\u001b[0;34m\u001b[0m\u001b[0;34m\u001b[0m\u001b[0;34m\u001b[0m\u001b[0m\n\u001b[1;32m     27\u001b[0m \u001b[0;34m\u001b[0m\u001b[0m\n\u001b[0;32m---> 28\u001b[0;31m     \u001b[0mgrad_input\u001b[0m \u001b[0;34m=\u001b[0m \u001b[0mnp\u001b[0m\u001b[0;34m.\u001b[0m\u001b[0mdot\u001b[0m\u001b[0;34m(\u001b[0m\u001b[0mgrad_output\u001b[0m\u001b[0;34m,\u001b[0m \u001b[0mself\u001b[0m\u001b[0;34m.\u001b[0m\u001b[0mweights\u001b[0m\u001b[0;34m.\u001b[0m\u001b[0mT\u001b[0m\u001b[0;34m)\u001b[0m\u001b[0;34m\u001b[0m\u001b[0;34m\u001b[0m\u001b[0m\n\u001b[0m\u001b[1;32m     29\u001b[0m \u001b[0;34m\u001b[0m\u001b[0m\n\u001b[1;32m     30\u001b[0m     \u001b[0;31m# compute gradient w.r.t. weights and biases\u001b[0m\u001b[0;34m\u001b[0m\u001b[0;34m\u001b[0m\u001b[0;34m\u001b[0m\u001b[0m\n",
            "\u001b[0;32m<__array_function__ internals>\u001b[0m in \u001b[0;36mdot\u001b[0;34m(*args, **kwargs)\u001b[0m\n",
            "\u001b[0;31mKeyboardInterrupt\u001b[0m: "
          ]
        }
      ]
    },
    {
      "cell_type": "code",
      "metadata": {
        "id": "w7n3IPbImA_f",
        "colab": {
          "base_uri": "https://localhost:8080/",
          "height": 136
        },
        "outputId": "54fae39a-78dd-43b6-922c-a4c56fd04ef2"
      },
      "source": [
        "print(mlp[0].weights)"
      ],
      "execution_count": null,
      "outputs": [
        {
          "output_type": "stream",
          "text": [
            "[[nan nan nan ... nan nan nan]\n",
            " [nan nan nan ... nan nan nan]\n",
            " [nan nan nan ... nan nan nan]\n",
            " ...\n",
            " [nan nan nan ... nan nan nan]\n",
            " [nan nan nan ... nan nan nan]\n",
            " [nan nan nan ... nan nan nan]]\n"
          ],
          "name": "stdout"
        }
      ]
    }
  ]
}